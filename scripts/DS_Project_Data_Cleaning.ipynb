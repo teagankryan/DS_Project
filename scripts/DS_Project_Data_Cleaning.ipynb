{
  "nbformat": 4,
  "nbformat_minor": 0,
  "metadata": {
    "colab": {
      "provenance": []
    },
    "kernelspec": {
      "name": "python3",
      "display_name": "Python 3"
    },
    "language_info": {
      "name": "python"
    }
  },
  "cells": [
    {
      "cell_type": "code",
      "execution_count": 1,
      "metadata": {
        "colab": {
          "base_uri": "https://localhost:8080/"
        },
        "id": "ZeuBymryp6UD",
        "outputId": "414e1146-915e-40ae-8363-c3a1d270f551"
      },
      "outputs": [
        {
          "output_type": "stream",
          "name": "stdout",
          "text": [
            "Cloning into 'DS_Project'...\n",
            "remote: Enumerating objects: 6, done.\u001b[K\n",
            "remote: Counting objects: 100% (6/6), done.\u001b[K\n",
            "remote: Compressing objects: 100% (5/5), done.\u001b[K\n",
            "remote: Total 6 (delta 0), reused 6 (delta 0), pack-reused 0 (from 0)\u001b[K\n",
            "Receiving objects: 100% (6/6), done.\n",
            "Filtering content: 100% (3/3), 1.35 GiB | 39.38 MiB/s, done.\n"
          ]
        }
      ],
      "source": [
        "#Cloning into our Github\n",
        "!git clone \"https://github.com/teagankryan/DS_Project\""
      ]
    },
    {
      "cell_type": "code",
      "source": [
        "#Reading TSV Files\n",
        "import pandas as pd\n",
        "\n",
        "basics = pd.read_csv(\"/content/DS_Project/title.basics.tsv\", sep=\"\\t\", na_values=\"\\\\N\", dtype=str)\n",
        "ratings = pd.read_csv(\"/content/DS_Project/title.ratings.tsv\", sep=\"\\t\", na_values=\"\\\\N\", dtype=str)\n",
        "crew = pd.read_csv(\"/content/DS_Project/title.crew.tsv\", sep=\"\\t\", na_values=\"\\\\N\", dtype=str)\n"
      ],
      "metadata": {
        "id": "Q07mUB8-qMvP"
      },
      "execution_count": 2,
      "outputs": []
    },
    {
      "cell_type": "code",
      "source": [
        "#Coercing numerical categories to numeric\n",
        "basics[\"startYear\"] = pd.to_numeric(basics[\"startYear\"], errors=\"coerce\")\n",
        "basics[\"runtimeMinutes\"] = pd.to_numeric(basics[\"runtimeMinutes\"], errors=\"coerce\")\n",
        "ratings[\"averageRating\"] = pd.to_numeric(ratings[\"averageRating\"], errors=\"coerce\")\n",
        "ratings[\"numVotes\"] = pd.to_numeric(ratings[\"numVotes\"], errors=\"coerce\")\n"
      ],
      "metadata": {
        "id": "-8X5aYCiqoWH"
      },
      "execution_count": 5,
      "outputs": []
    },
    {
      "cell_type": "code",
      "source": [
        "#Merging into one Dataset\n",
        "df = basics.merge(ratings, on=\"tconst\").merge(crew, on=\"tconst\")\n"
      ],
      "metadata": {
        "id": "jm_Nw9VdqsTw"
      },
      "execution_count": 6,
      "outputs": []
    },
    {
      "cell_type": "code",
      "source": [
        "#Filtering mvoies only and dropping rows with missing values\n",
        "df = df[df[\"titleType\"] == \"movie\"]\n",
        "df = df.dropna(subset=[\"startYear\", \"runtimeMinutes\", \"averageRating\"])\n",
        "\n"
      ],
      "metadata": {
        "id": "GaNo4Wx7qwpZ"
      },
      "execution_count": 8,
      "outputs": []
    },
    {
      "cell_type": "code",
      "source": [
        "#Splitting Genre's into lists\n",
        "df[\"genres\"] = df[\"genres\"].fillna(\"\").apply(lambda g: g.split(\",\") if g else [])\n",
        "\n",
        "print(df.head())\n",
        "print(df.info())"
      ],
      "metadata": {
        "colab": {
          "base_uri": "https://localhost:8080/"
        },
        "id": "kjM_PAcdrK3N",
        "outputId": "dd5cad6c-b473-4f80-c1fa-b7cd26c39797"
      },
      "execution_count": 9,
      "outputs": [
        {
          "output_type": "stream",
          "name": "stdout",
          "text": [
            "        tconst titleType                   primaryTitle  \\\n",
            "8    tt0000009     movie                     Miss Jerry   \n",
            "144  tt0000147     movie  The Corbett-Fitzsimmons Fight   \n",
            "343  tt0000502     movie                       Bohemios   \n",
            "379  tt0000574     movie    The Story of the Kelly Gang   \n",
            "390  tt0000591     movie               The Prodigal Son   \n",
            "\n",
            "                     originalTitle isAdult  startYear endYear  runtimeMinutes  \\\n",
            "8                       Miss Jerry       0     1894.0     NaN            45.0   \n",
            "144  The Corbett-Fitzsimmons Fight       0     1897.0     NaN           100.0   \n",
            "343                       Bohemios       0     1905.0     NaN           100.0   \n",
            "379    The Story of the Kelly Gang       0     1906.0     NaN            70.0   \n",
            "390              L'enfant prodigue       0     1907.0     NaN            90.0   \n",
            "\n",
            "                             genres  averageRating  numVotes  directors  \\\n",
            "8                         [Romance]            5.4       228  nm0085156   \n",
            "144      [Documentary, News, Sport]            5.2       570  nm0714557   \n",
            "343                              []            3.6        22  nm0063413   \n",
            "379  [Action, Adventure, Biography]            6.0      1023  nm0846879   \n",
            "390                         [Drama]            5.3        34  nm0141150   \n",
            "\n",
            "                           writers  \n",
            "8                        nm0085156  \n",
            "144                            NaN  \n",
            "343  nm0063413,nm0657268,nm0675388  \n",
            "379                      nm0846879  \n",
            "390                      nm0141150  \n",
            "<class 'pandas.core.frame.DataFrame'>\n",
            "Index: 302324 entries, 8 to 1617840\n",
            "Data columns (total 13 columns):\n",
            " #   Column          Non-Null Count   Dtype  \n",
            "---  ------          --------------   -----  \n",
            " 0   tconst          302324 non-null  object \n",
            " 1   titleType       302324 non-null  object \n",
            " 2   primaryTitle    302324 non-null  object \n",
            " 3   originalTitle   302324 non-null  object \n",
            " 4   isAdult         302324 non-null  object \n",
            " 5   startYear       302324 non-null  float64\n",
            " 6   endYear         0 non-null       object \n",
            " 7   runtimeMinutes  302324 non-null  float64\n",
            " 8   genres          302324 non-null  object \n",
            " 9   averageRating   302324 non-null  float64\n",
            " 10  numVotes        302324 non-null  int64  \n",
            " 11  directors       299952 non-null  object \n",
            " 12  writers         269897 non-null  object \n",
            "dtypes: float64(3), int64(1), object(9)\n",
            "memory usage: 32.3+ MB\n",
            "None\n"
          ]
        }
      ]
    },
    {
      "cell_type": "code",
      "source": [
        "# Saving the cleaned dataset to CSV\n",
        "df.to_csv(\"imdb_clean.csv\", index=False, encoding=\"utf-8\")\n"
      ],
      "metadata": {
        "id": "OSKvjFOqrWrX"
      },
      "execution_count": 10,
      "outputs": []
    }
  ]
}